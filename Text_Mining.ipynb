{
  "nbformat": 4,
  "nbformat_minor": 0,
  "metadata": {
    "colab": {
      "name": "Text Mining.ipynb",
      "provenance": [],
      "authorship_tag": "ABX9TyMx2SGPGiMZveiHfh6SkbRv",
      "include_colab_link": true
    },
    "kernelspec": {
      "name": "python3",
      "display_name": "Python 3"
    }
  },
  "cells": [
    {
      "cell_type": "markdown",
      "metadata": {
        "id": "view-in-github",
        "colab_type": "text"
      },
      "source": [
        "<a href=\"https://colab.research.google.com/github/aurisaprastika/hate-speech-classification/blob/main/Text_Mining.ipynb\" target=\"_parent\"><img src=\"https://colab.research.google.com/assets/colab-badge.svg\" alt=\"Open In Colab\"/></a>"
      ]
    },
    {
      "cell_type": "markdown",
      "metadata": {
        "id": "NuSM8tKVFlu1"
      },
      "source": [
        "Dataset diperoleh dari https://github.com/ialfina/id-hatespeech-detection\n",
        "\n",
        "\n",
        "**Install nltk**"
      ]
    },
    {
      "cell_type": "code",
      "metadata": {
        "id": "zeQTgb1_Q8ux",
        "colab": {
          "base_uri": "https://localhost:8080/"
        },
        "outputId": "20f7c77b-b8c6-4fab-bf80-fe63627cc859"
      },
      "source": [
        "pip install nltk"
      ],
      "execution_count": 80,
      "outputs": [
        {
          "output_type": "stream",
          "text": [
            "Requirement already satisfied: nltk in /usr/local/lib/python3.6/dist-packages (3.2.5)\n",
            "Requirement already satisfied: six in /usr/local/lib/python3.6/dist-packages (from nltk) (1.15.0)\n"
          ],
          "name": "stdout"
        }
      ]
    },
    {
      "cell_type": "markdown",
      "metadata": {
        "id": "uBZYapXDGBkn"
      },
      "source": [
        "**Install Sastrawi untuk melakukan pemrosesan teks dalam Bahasa Indonesia**"
      ]
    },
    {
      "cell_type": "code",
      "metadata": {
        "colab": {
          "base_uri": "https://localhost:8080/"
        },
        "id": "xNa46bqzGBBs",
        "outputId": "5b02ac23-ebfe-4da4-ce94-770b8ba5e739"
      },
      "source": [
        "pip install Sastrawi"
      ],
      "execution_count": 81,
      "outputs": [
        {
          "output_type": "stream",
          "text": [
            "Requirement already satisfied: Sastrawi in /usr/local/lib/python3.6/dist-packages (1.0.1)\n"
          ],
          "name": "stdout"
        }
      ]
    },
    {
      "cell_type": "markdown",
      "metadata": {
        "id": "orcpEQrxGj5S"
      },
      "source": [
        "**Install modul yang diperlukan**"
      ]
    },
    {
      "cell_type": "code",
      "metadata": {
        "id": "YBsUMkL6GhbM"
      },
      "source": [
        "import pandas as pd\n",
        "import numpy as np\n",
        "import nltk\n",
        "import re\n",
        "import os\n",
        "import string\n",
        "import nltk.corpus\n",
        "import matplotlib.pyplot as plt\n",
        "from Sastrawi.Stemmer.StemmerFactory import StemmerFactory\n",
        "factory = StemmerFactory()\n",
        "stemmer = factory.create_stemmer()\n",
        "from nltk.tokenize import word_tokenize \n",
        "from nltk.probability import FreqDist\n",
        "from sklearn import preprocessing\n",
        "from sklearn.feature_extraction.text import TfidfVectorizer\n",
        "from sklearn.model_selection import train_test_split\n",
        "from sklearn.naive_bayes import GaussianNB\n",
        "from sklearn.metrics import accuracy_score\n",
        "from sklearn.metrics import classification_report\n",
        "from sklearn.linear_model import LogisticRegression"
      ],
      "execution_count": 82,
      "outputs": []
    },
    {
      "cell_type": "code",
      "metadata": {
        "colab": {
          "base_uri": "https://localhost:8080/",
          "height": 419
        },
        "id": "BF3VI0lnQ2TS",
        "outputId": "5cccc2a9-d7a3-479f-add5-fb6b6d14e21e"
      },
      "source": [
        "df = pd.read_csv('IDHSD_RIO_unbalanced_713_2017.txt', sep='\\t', header=None, names=['Label', 'Tweet'], skiprows=1, engine='python')\n",
        "df"
      ],
      "execution_count": 83,
      "outputs": [
        {
          "output_type": "execute_result",
          "data": {
            "text/html": [
              "<div>\n",
              "<style scoped>\n",
              "    .dataframe tbody tr th:only-of-type {\n",
              "        vertical-align: middle;\n",
              "    }\n",
              "\n",
              "    .dataframe tbody tr th {\n",
              "        vertical-align: top;\n",
              "    }\n",
              "\n",
              "    .dataframe thead th {\n",
              "        text-align: right;\n",
              "    }\n",
              "</style>\n",
              "<table border=\"1\" class=\"dataframe\">\n",
              "  <thead>\n",
              "    <tr style=\"text-align: right;\">\n",
              "      <th></th>\n",
              "      <th>Label</th>\n",
              "      <th>Tweet</th>\n",
              "    </tr>\n",
              "  </thead>\n",
              "  <tbody>\n",
              "    <tr>\n",
              "      <th>0</th>\n",
              "      <td>Non_HS</td>\n",
              "      <td>RT @spardaxyz: Fadli Zon Minta Mendagri Segera...</td>\n",
              "    </tr>\n",
              "    <tr>\n",
              "      <th>1</th>\n",
              "      <td>Non_HS</td>\n",
              "      <td>RT @baguscondromowo: Mereka terus melukai aksi...</td>\n",
              "    </tr>\n",
              "    <tr>\n",
              "      <th>2</th>\n",
              "      <td>Non_HS</td>\n",
              "      <td>Sylvi: bagaimana gurbernur melakukan kekerasan...</td>\n",
              "    </tr>\n",
              "    <tr>\n",
              "      <th>3</th>\n",
              "      <td>Non_HS</td>\n",
              "      <td>Ahmad Dhani Tak Puas Debat Pilkada, Masalah Ja...</td>\n",
              "    </tr>\n",
              "    <tr>\n",
              "      <th>4</th>\n",
              "      <td>Non_HS</td>\n",
              "      <td>RT @lisdaulay28: Waspada KTP palsu.....kawal P...</td>\n",
              "    </tr>\n",
              "    <tr>\n",
              "      <th>...</th>\n",
              "      <td>...</td>\n",
              "      <td>...</td>\n",
              "    </tr>\n",
              "    <tr>\n",
              "      <th>708</th>\n",
              "      <td>HS</td>\n",
              "      <td>Muka Si BABi Ahok Tuh Yg Mirip SERBET Lantai.....</td>\n",
              "    </tr>\n",
              "    <tr>\n",
              "      <th>709</th>\n",
              "      <td>HS</td>\n",
              "      <td>Betul bang hancurkan merka bang, musnahkan chi...</td>\n",
              "    </tr>\n",
              "    <tr>\n",
              "      <th>710</th>\n",
              "      <td>HS</td>\n",
              "      <td>Sapa Yg bilang Ahok anti korupsi!?, klo grombo...</td>\n",
              "    </tr>\n",
              "    <tr>\n",
              "      <th>711</th>\n",
              "      <td>HS</td>\n",
              "      <td>Gw juga ngimpi SENTILIN BIJI BABI AHOK, pcetar...</td>\n",
              "    </tr>\n",
              "    <tr>\n",
              "      <th>712</th>\n",
              "      <td>HS</td>\n",
              "      <td>Mudah2an gw ketemu sama SI BABI IWAN BOPENG DI...</td>\n",
              "    </tr>\n",
              "  </tbody>\n",
              "</table>\n",
              "<p>713 rows × 2 columns</p>\n",
              "</div>"
            ],
            "text/plain": [
              "      Label                                              Tweet\n",
              "0    Non_HS  RT @spardaxyz: Fadli Zon Minta Mendagri Segera...\n",
              "1    Non_HS  RT @baguscondromowo: Mereka terus melukai aksi...\n",
              "2    Non_HS  Sylvi: bagaimana gurbernur melakukan kekerasan...\n",
              "3    Non_HS  Ahmad Dhani Tak Puas Debat Pilkada, Masalah Ja...\n",
              "4    Non_HS  RT @lisdaulay28: Waspada KTP palsu.....kawal P...\n",
              "..      ...                                                ...\n",
              "708      HS  Muka Si BABi Ahok Tuh Yg Mirip SERBET Lantai.....\n",
              "709      HS  Betul bang hancurkan merka bang, musnahkan chi...\n",
              "710      HS  Sapa Yg bilang Ahok anti korupsi!?, klo grombo...\n",
              "711      HS  Gw juga ngimpi SENTILIN BIJI BABI AHOK, pcetar...\n",
              "712      HS  Mudah2an gw ketemu sama SI BABI IWAN BOPENG DI...\n",
              "\n",
              "[713 rows x 2 columns]"
            ]
          },
          "metadata": {
            "tags": []
          },
          "execution_count": 83
        }
      ]
    },
    {
      "cell_type": "markdown",
      "metadata": {
        "id": "UZ53H-OJUutz"
      },
      "source": [
        "## **Tahap Preprocessing**"
      ]
    },
    {
      "cell_type": "markdown",
      "metadata": {
        "id": "ryXl0siyXdJW"
      },
      "source": [
        "Case Folding"
      ]
    },
    {
      "cell_type": "code",
      "metadata": {
        "colab": {
          "base_uri": "https://localhost:8080/"
        },
        "id": "1oPvfcg1U5A_",
        "outputId": "a6242a5d-46e5-4985-e737-97823f663012"
      },
      "source": [
        "df['Tweet'] = df['Tweet'].str.lower()\n",
        "print('Case Folding Result: \\n')\n",
        "print(df['Tweet'])\n",
        "print('\\n\\n\\n')"
      ],
      "execution_count": 84,
      "outputs": [
        {
          "output_type": "stream",
          "text": [
            "Case Folding Result: \n",
            "\n",
            "0      rt @spardaxyz: fadli zon minta mendagri segera...\n",
            "1      rt @baguscondromowo: mereka terus melukai aksi...\n",
            "2      sylvi: bagaimana gurbernur melakukan kekerasan...\n",
            "3      ahmad dhani tak puas debat pilkada, masalah ja...\n",
            "4      rt @lisdaulay28: waspada ktp palsu.....kawal p...\n",
            "                             ...                        \n",
            "708    muka si babi ahok tuh yg mirip serbet lantai.....\n",
            "709    betul bang hancurkan merka bang, musnahkan chi...\n",
            "710    sapa yg bilang ahok anti korupsi!?, klo grombo...\n",
            "711    gw juga ngimpi sentilin biji babi ahok, pcetar...\n",
            "712    mudah2an gw ketemu sama si babi iwan bopeng di...\n",
            "Name: Tweet, Length: 713, dtype: object\n",
            "\n",
            "\n",
            "\n",
            "\n"
          ],
          "name": "stdout"
        }
      ]
    },
    {
      "cell_type": "markdown",
      "metadata": {
        "id": "G7K_OqYxXhSR"
      },
      "source": [
        "## **Tokenizing**"
      ]
    },
    {
      "cell_type": "code",
      "metadata": {
        "id": "vHTGaM8VXzpV"
      },
      "source": [
        "def remove_tweet_special(text):\n",
        "    text = text.replace('\\\\t',\" \").replace('\\\\n',\" \").replace('\\\\u',\" \").replace('\\\\',\"\")\n",
        "    text = text.encode('ascii', 'replace').decode('ascii')\n",
        "    text = ' '.join(re.sub(\"([@#][A-Za-z0-9]+)|(\\w+:\\/\\/\\S+)\",\" \", text).split())\n",
        "    return text.replace(\"http://\", \" \").replace(\"https://\", \" \")\n",
        "\n",
        "df['Tweet'] = df['Tweet'].apply(remove_tweet_special)\n",
        "\n",
        "#remove number\n",
        "def remove_number(text):\n",
        "    return  re.sub(r\"\\d+\", \"\", text)\n",
        "\n",
        "df['Tweet'] = df['Tweet'].apply(remove_number)\n",
        "\n",
        "#remove punctuation\n",
        "def remove_punctuation(text):\n",
        "    return text.translate(str.maketrans(\"\",\"\",string.punctuation))\n",
        "\n",
        "df['Tweet'] = df['Tweet'].apply(remove_punctuation)\n",
        "\n",
        "#remove whitespace leading & trailing\n",
        "def remove_whitespace_LT(text):\n",
        "    return text.strip()\n",
        "\n",
        "df['Tweet'] = df['Tweet'].apply(remove_whitespace_LT)\n",
        "\n",
        "#remove multiple whitespace into single whitespace\n",
        "def remove_whitespace_multiple(text):\n",
        "    return re.sub('\\s+',' ',text)\n",
        "\n",
        "df['Tweet'] = df['Tweet'].apply(remove_whitespace_multiple)\n",
        "\n",
        "# remove single char\n",
        "def remove_singl_char(text):\n",
        "    return re.sub(r\"\\b[a-zA-Z]\\b\", \"\", text)\n",
        "\n",
        "df['Tweet'] = df['Tweet'].apply(remove_singl_char)"
      ],
      "execution_count": 85,
      "outputs": []
    },
    {
      "cell_type": "code",
      "metadata": {
        "colab": {
          "base_uri": "https://localhost:8080/"
        },
        "id": "xBIcbpOfYPgP",
        "outputId": "4d459755-b8a7-4202-be02-e30050e7b307"
      },
      "source": [
        "print('Tokenizing Result: \\n') \n",
        "print(df['Tweet'])\n",
        "print('\\n\\n\\n')"
      ],
      "execution_count": 86,
      "outputs": [
        {
          "output_type": "stream",
          "text": [
            "Tokenizing Result: \n",
            "\n",
            "0      rt fadli zon minta mendagri segera menonaktifk...\n",
            "1      rt mereka terus melukai aksi dalam rangka meme...\n",
            "2      sylvi bagaimana gurbernur melakukan kekerasan ...\n",
            "3      ahmad dhani tak puas debat pilkada masalah jal...\n",
            "4                      rt waspada ktp palsukawal pilkada\n",
            "                             ...                        \n",
            "708     muka si babi ahok tuh yg mirip serbet lantai btp\n",
            "709    betul bang hancurkan merka bang musnahkan chin...\n",
            "710    sapa yg bilang ahok anti korupsi klo grombolan...\n",
            "711    gw juga ngimpi sentilin biji babi ahok pcetar ...\n",
            "712    mudahan gw ketemu sama si babi iwan bopeng di ...\n",
            "Name: Tweet, Length: 713, dtype: object\n",
            "\n",
            "\n",
            "\n",
            "\n"
          ],
          "name": "stdout"
        }
      ]
    },
    {
      "cell_type": "markdown",
      "metadata": {
        "id": "-cRwcY8qddRi"
      },
      "source": [
        "## **Stemming**"
      ]
    },
    {
      "cell_type": "code",
      "metadata": {
        "colab": {
          "base_uri": "https://localhost:8080/",
          "height": 419
        },
        "id": "dLTqu1uedUiL",
        "outputId": "aef74c89-97c0-4eea-d042-790a6dc86e13"
      },
      "source": [
        "def stemming(sentence):\n",
        "  return stemmer.stem(sentence)\n",
        "\n",
        "df['Tweet'] = df['Tweet'].apply(stemming).apply(stemming)\n",
        "\n",
        "df"
      ],
      "execution_count": 87,
      "outputs": [
        {
          "output_type": "execute_result",
          "data": {
            "text/html": [
              "<div>\n",
              "<style scoped>\n",
              "    .dataframe tbody tr th:only-of-type {\n",
              "        vertical-align: middle;\n",
              "    }\n",
              "\n",
              "    .dataframe tbody tr th {\n",
              "        vertical-align: top;\n",
              "    }\n",
              "\n",
              "    .dataframe thead th {\n",
              "        text-align: right;\n",
              "    }\n",
              "</style>\n",
              "<table border=\"1\" class=\"dataframe\">\n",
              "  <thead>\n",
              "    <tr style=\"text-align: right;\">\n",
              "      <th></th>\n",
              "      <th>Label</th>\n",
              "      <th>Tweet</th>\n",
              "    </tr>\n",
              "  </thead>\n",
              "  <tbody>\n",
              "    <tr>\n",
              "      <th>0</th>\n",
              "      <td>Non_HS</td>\n",
              "      <td>rt fadli zon minta mendagri segera nonaktif ah...</td>\n",
              "    </tr>\n",
              "    <tr>\n",
              "      <th>1</th>\n",
              "      <td>Non_HS</td>\n",
              "      <td>rt mereka terus luka aksi dalam rangka penjara...</td>\n",
              "    </tr>\n",
              "    <tr>\n",
              "      <th>2</th>\n",
              "      <td>Non_HS</td>\n",
              "      <td>sylvi bagaimana gurbernur laku keras perempuan...</td>\n",
              "    </tr>\n",
              "    <tr>\n",
              "      <th>3</th>\n",
              "      <td>Non_HS</td>\n",
              "      <td>ahmad dhani tak puas debat pilkada masalah jal...</td>\n",
              "    </tr>\n",
              "    <tr>\n",
              "      <th>4</th>\n",
              "      <td>Non_HS</td>\n",
              "      <td>rt waspada ktp palsukawal pilkada</td>\n",
              "    </tr>\n",
              "    <tr>\n",
              "      <th>...</th>\n",
              "      <td>...</td>\n",
              "      <td>...</td>\n",
              "    </tr>\n",
              "    <tr>\n",
              "      <th>708</th>\n",
              "      <td>HS</td>\n",
              "      <td>muka si babi ahok tuh yg mirip serbet lantai btp</td>\n",
              "    </tr>\n",
              "    <tr>\n",
              "      <th>709</th>\n",
              "      <td>HS</td>\n",
              "      <td>betul bang hancur merka bang musnah china babi...</td>\n",
              "    </tr>\n",
              "    <tr>\n",
              "      <th>710</th>\n",
              "      <td>HS</td>\n",
              "      <td>sapa yg bilang ahok anti korupsi klo grombolan...</td>\n",
              "    </tr>\n",
              "    <tr>\n",
              "      <th>711</th>\n",
              "      <td>HS</td>\n",
              "      <td>gw juga ngimpi sentilin biji babi ahok pcetar ...</td>\n",
              "    </tr>\n",
              "    <tr>\n",
              "      <th>712</th>\n",
              "      <td>HS</td>\n",
              "      <td>mudah gw ketemu sama si babi iwan bopeng di tp...</td>\n",
              "    </tr>\n",
              "  </tbody>\n",
              "</table>\n",
              "<p>713 rows × 2 columns</p>\n",
              "</div>"
            ],
            "text/plain": [
              "      Label                                              Tweet\n",
              "0    Non_HS  rt fadli zon minta mendagri segera nonaktif ah...\n",
              "1    Non_HS  rt mereka terus luka aksi dalam rangka penjara...\n",
              "2    Non_HS  sylvi bagaimana gurbernur laku keras perempuan...\n",
              "3    Non_HS  ahmad dhani tak puas debat pilkada masalah jal...\n",
              "4    Non_HS                  rt waspada ktp palsukawal pilkada\n",
              "..      ...                                                ...\n",
              "708      HS   muka si babi ahok tuh yg mirip serbet lantai btp\n",
              "709      HS  betul bang hancur merka bang musnah china babi...\n",
              "710      HS  sapa yg bilang ahok anti korupsi klo grombolan...\n",
              "711      HS  gw juga ngimpi sentilin biji babi ahok pcetar ...\n",
              "712      HS  mudah gw ketemu sama si babi iwan bopeng di tp...\n",
              "\n",
              "[713 rows x 2 columns]"
            ]
          },
          "metadata": {
            "tags": []
          },
          "execution_count": 87
        }
      ]
    },
    {
      "cell_type": "markdown",
      "metadata": {
        "id": "tBkGeOhghvQu"
      },
      "source": [
        "## **Encode**"
      ]
    },
    {
      "cell_type": "code",
      "metadata": {
        "colab": {
          "base_uri": "https://localhost:8080/",
          "height": 419
        },
        "id": "OtY7U_tph9jD",
        "outputId": "63f35a6a-dac5-425b-f350-def410aa02fe"
      },
      "source": [
        "le1 = preprocessing.LabelEncoder()\n",
        "df['Label'] =le1.fit_transform(df['Label'])\n",
        "\n",
        "df"
      ],
      "execution_count": 88,
      "outputs": [
        {
          "output_type": "execute_result",
          "data": {
            "text/html": [
              "<div>\n",
              "<style scoped>\n",
              "    .dataframe tbody tr th:only-of-type {\n",
              "        vertical-align: middle;\n",
              "    }\n",
              "\n",
              "    .dataframe tbody tr th {\n",
              "        vertical-align: top;\n",
              "    }\n",
              "\n",
              "    .dataframe thead th {\n",
              "        text-align: right;\n",
              "    }\n",
              "</style>\n",
              "<table border=\"1\" class=\"dataframe\">\n",
              "  <thead>\n",
              "    <tr style=\"text-align: right;\">\n",
              "      <th></th>\n",
              "      <th>Label</th>\n",
              "      <th>Tweet</th>\n",
              "    </tr>\n",
              "  </thead>\n",
              "  <tbody>\n",
              "    <tr>\n",
              "      <th>0</th>\n",
              "      <td>1</td>\n",
              "      <td>rt fadli zon minta mendagri segera nonaktif ah...</td>\n",
              "    </tr>\n",
              "    <tr>\n",
              "      <th>1</th>\n",
              "      <td>1</td>\n",
              "      <td>rt mereka terus luka aksi dalam rangka penjara...</td>\n",
              "    </tr>\n",
              "    <tr>\n",
              "      <th>2</th>\n",
              "      <td>1</td>\n",
              "      <td>sylvi bagaimana gurbernur laku keras perempuan...</td>\n",
              "    </tr>\n",
              "    <tr>\n",
              "      <th>3</th>\n",
              "      <td>1</td>\n",
              "      <td>ahmad dhani tak puas debat pilkada masalah jal...</td>\n",
              "    </tr>\n",
              "    <tr>\n",
              "      <th>4</th>\n",
              "      <td>1</td>\n",
              "      <td>rt waspada ktp palsukawal pilkada</td>\n",
              "    </tr>\n",
              "    <tr>\n",
              "      <th>...</th>\n",
              "      <td>...</td>\n",
              "      <td>...</td>\n",
              "    </tr>\n",
              "    <tr>\n",
              "      <th>708</th>\n",
              "      <td>0</td>\n",
              "      <td>muka si babi ahok tuh yg mirip serbet lantai btp</td>\n",
              "    </tr>\n",
              "    <tr>\n",
              "      <th>709</th>\n",
              "      <td>0</td>\n",
              "      <td>betul bang hancur merka bang musnah china babi...</td>\n",
              "    </tr>\n",
              "    <tr>\n",
              "      <th>710</th>\n",
              "      <td>0</td>\n",
              "      <td>sapa yg bilang ahok anti korupsi klo grombolan...</td>\n",
              "    </tr>\n",
              "    <tr>\n",
              "      <th>711</th>\n",
              "      <td>0</td>\n",
              "      <td>gw juga ngimpi sentilin biji babi ahok pcetar ...</td>\n",
              "    </tr>\n",
              "    <tr>\n",
              "      <th>712</th>\n",
              "      <td>0</td>\n",
              "      <td>mudah gw ketemu sama si babi iwan bopeng di tp...</td>\n",
              "    </tr>\n",
              "  </tbody>\n",
              "</table>\n",
              "<p>713 rows × 2 columns</p>\n",
              "</div>"
            ],
            "text/plain": [
              "     Label                                              Tweet\n",
              "0        1  rt fadli zon minta mendagri segera nonaktif ah...\n",
              "1        1  rt mereka terus luka aksi dalam rangka penjara...\n",
              "2        1  sylvi bagaimana gurbernur laku keras perempuan...\n",
              "3        1  ahmad dhani tak puas debat pilkada masalah jal...\n",
              "4        1                  rt waspada ktp palsukawal pilkada\n",
              "..     ...                                                ...\n",
              "708      0   muka si babi ahok tuh yg mirip serbet lantai btp\n",
              "709      0  betul bang hancur merka bang musnah china babi...\n",
              "710      0  sapa yg bilang ahok anti korupsi klo grombolan...\n",
              "711      0  gw juga ngimpi sentilin biji babi ahok pcetar ...\n",
              "712      0  mudah gw ketemu sama si babi iwan bopeng di tp...\n",
              "\n",
              "[713 rows x 2 columns]"
            ]
          },
          "metadata": {
            "tags": []
          },
          "execution_count": 88
        }
      ]
    },
    {
      "cell_type": "markdown",
      "metadata": {
        "id": "dcDKelJzknPA"
      },
      "source": [
        "## **Feature extraction**"
      ]
    },
    {
      "cell_type": "code",
      "metadata": {
        "colab": {
          "base_uri": "https://localhost:8080/"
        },
        "id": "z1880CnKkhkV",
        "outputId": "981a71bd-74dd-4234-f3b3-d53096f984df"
      },
      "source": [
        "tfidf_vectorizer = TfidfVectorizer(ngram_range=(1, 2),max_df=0.75, min_df=5, max_features=10000)\n",
        "\n",
        "# TF-IDF feature matrix\n",
        "tfidf = tfidf_vectorizer.fit_transform(df['Tweet'] )\n",
        "tfidf"
      ],
      "execution_count": 89,
      "outputs": [
        {
          "output_type": "execute_result",
          "data": {
            "text/plain": [
              "<713x456 sparse matrix of type '<class 'numpy.float64'>'\n",
              "\twith 6516 stored elements in Compressed Sparse Row format>"
            ]
          },
          "metadata": {
            "tags": []
          },
          "execution_count": 89
        }
      ]
    },
    {
      "cell_type": "markdown",
      "metadata": {
        "id": "LRisU2Oplem8"
      },
      "source": [
        "## **Modelling**"
      ]
    },
    {
      "cell_type": "markdown",
      "metadata": {
        "id": "-jsE6JUeljZc"
      },
      "source": [
        "Naive Bayes"
      ]
    },
    {
      "cell_type": "code",
      "metadata": {
        "colab": {
          "base_uri": "https://localhost:8080/"
        },
        "id": "HanvCP7_lgiI",
        "outputId": "3be5bc92-caf8-4841-a458-b443f8cbb710"
      },
      "source": [
        "#Naive Bayes Modelling\n",
        "X = tfidf\n",
        "y = df['Label'].astype(int)\n",
        "X_train_tfidf, X_test_tfidf, y_train, y_test = train_test_split(X.toarray(), y, random_state=42, test_size=0.30)\n",
        "nbb=GaussianNB()\n",
        "nbb.fit(X_train_tfidf,y_train)\n",
        "y_preds = nbb.predict(X_test_tfidf)\n",
        "acc2b=accuracy_score(y_test,y_preds)\n",
        "report = classification_report( y_test, y_preds )\n",
        "print(report)\n",
        "print(\"Naive Bayes, Accuracy Score:\",acc2b)"
      ],
      "execution_count": 90,
      "outputs": [
        {
          "output_type": "stream",
          "text": [
            "              precision    recall  f1-score   support\n",
            "\n",
            "           0       0.55      0.86      0.67        66\n",
            "           1       0.92      0.69      0.79       148\n",
            "\n",
            "    accuracy                           0.74       214\n",
            "   macro avg       0.74      0.78      0.73       214\n",
            "weighted avg       0.81      0.74      0.75       214\n",
            "\n",
            "Naive Bayes, Accuracy Score: 0.7429906542056075\n"
          ],
          "name": "stdout"
        }
      ]
    },
    {
      "cell_type": "markdown",
      "metadata": {
        "id": "b9N5gnlcr-Dr"
      },
      "source": [
        "Logistic Regression"
      ]
    },
    {
      "cell_type": "code",
      "metadata": {
        "colab": {
          "base_uri": "https://localhost:8080/"
        },
        "id": "mF3Zd6gzroxz",
        "outputId": "8fa7c4f3-077c-44a2-ad05-451dd4aaa499"
      },
      "source": [
        "X_train_tfidf, X_test_tfidf, y_train, y_test = train_test_split(X, y, random_state=42, test_size=0.2)\n",
        "model = LogisticRegression().fit(X_train_tfidf,y_train)\n",
        "y_preds = model.predict(X_test_tfidf)\n",
        "report = classification_report( y_test, y_preds )\n",
        "print(report)\n",
        "acc=accuracy_score(y_test,y_preds)\n",
        "print(\"Logistic Regression, Accuracy Score:\" , acc)"
      ],
      "execution_count": 91,
      "outputs": [
        {
          "output_type": "stream",
          "text": [
            "              precision    recall  f1-score   support\n",
            "\n",
            "           0       0.87      0.73      0.80        45\n",
            "           1       0.89      0.95      0.92        98\n",
            "\n",
            "    accuracy                           0.88       143\n",
            "   macro avg       0.88      0.84      0.86       143\n",
            "weighted avg       0.88      0.88      0.88       143\n",
            "\n",
            "Logistic Regression, Accuracy Score: 0.8811188811188811\n"
          ],
          "name": "stdout"
        }
      ]
    }
  ]
}